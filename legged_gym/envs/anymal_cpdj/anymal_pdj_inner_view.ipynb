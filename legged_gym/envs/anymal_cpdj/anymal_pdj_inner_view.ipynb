{
 "cells": [
  {
   "cell_type": "code",
   "execution_count": 1,
   "metadata": {},
   "outputs": [],
   "source": [
    "import torch "
   ]
  },
  {
   "cell_type": "code",
   "execution_count": 2,
   "metadata": {},
   "outputs": [
    {
     "data": {
      "text/plain": [
       "tensor([[[0., 0., 0., 0., 0., 0., 0., 0.],\n",
       "         [0., 0., 0., 0., 0., 0., 0., 0.],\n",
       "         [0., 0., 0., 0., 0., 0., 0., 0.],\n",
       "         [0., 0., 0., 0., 0., 0., 0., 0.],\n",
       "         [0., 0., 0., 0., 0., 0., 0., 0.],\n",
       "         [0., 0., 0., 0., 0., 0., 0., 0.],\n",
       "         [0., 0., 0., 0., 0., 0., 0., 0.],\n",
       "         [0., 0., 0., 0., 0., 0., 0., 0.],\n",
       "         [0., 0., 0., 0., 0., 0., 0., 0.],\n",
       "         [0., 0., 0., 0., 0., 0., 0., 0.],\n",
       "         [0., 0., 0., 0., 0., 0., 0., 0.],\n",
       "         [0., 0., 0., 0., 0., 0., 0., 0.]],\n",
       "\n",
       "        [[0., 0., 0., 0., 0., 0., 0., 0.],\n",
       "         [0., 0., 0., 0., 0., 0., 0., 0.],\n",
       "         [0., 0., 0., 0., 0., 0., 0., 0.],\n",
       "         [0., 0., 0., 0., 0., 0., 0., 0.],\n",
       "         [0., 0., 0., 0., 0., 0., 0., 0.],\n",
       "         [0., 0., 0., 0., 0., 0., 0., 0.],\n",
       "         [0., 0., 0., 0., 0., 0., 0., 0.],\n",
       "         [0., 0., 0., 0., 0., 0., 0., 0.],\n",
       "         [0., 0., 0., 0., 0., 0., 0., 0.],\n",
       "         [0., 0., 0., 0., 0., 0., 0., 0.],\n",
       "         [0., 0., 0., 0., 0., 0., 0., 0.],\n",
       "         [0., 0., 0., 0., 0., 0., 0., 0.]]])"
      ]
     },
     "execution_count": 2,
     "metadata": {},
     "output_type": "execute_result"
    }
   ],
   "source": [
    "# 查看初始化形状\n",
    "num_envs=3\n",
    "num_actions=4\n",
    "sea_hidden_state=torch.zeros(2,num_envs*num_actions,8)\n",
    "sea_hidden_state\n"
   ]
  },
  {
   "cell_type": "code",
   "execution_count": 3,
   "metadata": {},
   "outputs": [
    {
     "data": {
      "text/plain": [
       "tensor([[[[0., 0., 0., 0., 0., 0., 0., 0.],\n",
       "          [0., 0., 0., 0., 0., 0., 0., 0.],\n",
       "          [0., 0., 0., 0., 0., 0., 0., 0.],\n",
       "          [0., 0., 0., 0., 0., 0., 0., 0.]],\n",
       "\n",
       "         [[0., 0., 0., 0., 0., 0., 0., 0.],\n",
       "          [0., 0., 0., 0., 0., 0., 0., 0.],\n",
       "          [0., 0., 0., 0., 0., 0., 0., 0.],\n",
       "          [0., 0., 0., 0., 0., 0., 0., 0.]],\n",
       "\n",
       "         [[0., 0., 0., 0., 0., 0., 0., 0.],\n",
       "          [0., 0., 0., 0., 0., 0., 0., 0.],\n",
       "          [0., 0., 0., 0., 0., 0., 0., 0.],\n",
       "          [0., 0., 0., 0., 0., 0., 0., 0.]]],\n",
       "\n",
       "\n",
       "        [[[0., 0., 0., 0., 0., 0., 0., 0.],\n",
       "          [0., 0., 0., 0., 0., 0., 0., 0.],\n",
       "          [0., 0., 0., 0., 0., 0., 0., 0.],\n",
       "          [0., 0., 0., 0., 0., 0., 0., 0.]],\n",
       "\n",
       "         [[0., 0., 0., 0., 0., 0., 0., 0.],\n",
       "          [0., 0., 0., 0., 0., 0., 0., 0.],\n",
       "          [0., 0., 0., 0., 0., 0., 0., 0.],\n",
       "          [0., 0., 0., 0., 0., 0., 0., 0.]],\n",
       "\n",
       "         [[0., 0., 0., 0., 0., 0., 0., 0.],\n",
       "          [0., 0., 0., 0., 0., 0., 0., 0.],\n",
       "          [0., 0., 0., 0., 0., 0., 0., 0.],\n",
       "          [0., 0., 0., 0., 0., 0., 0., 0.]]]])"
      ]
     },
     "execution_count": 3,
     "metadata": {},
     "output_type": "execute_result"
    }
   ],
   "source": [
    "sea_hidden_state_per_env=sea_hidden_state.view(2, num_envs, num_actions, 8)\n",
    "sea_hidden_state_per_env"
   ]
  },
  {
   "cell_type": "code",
   "execution_count": 4,
   "metadata": {},
   "outputs": [
    {
     "data": {
      "text/plain": [
       "tensor([[[[0., 0., 0., 0., 0., 0., 0., 0.],\n",
       "          [0., 0., 0., 0., 0., 0., 0., 0.],\n",
       "          [0., 0., 0., 0., 0., 0., 0., 0.],\n",
       "          [0., 0., 0., 0., 0., 0., 0., 0.]],\n",
       "\n",
       "         [[1., 1., 1., 1., 1., 1., 1., 1.],\n",
       "          [1., 1., 1., 1., 1., 1., 1., 1.],\n",
       "          [1., 1., 1., 1., 1., 1., 1., 1.],\n",
       "          [1., 1., 1., 1., 1., 1., 1., 1.]],\n",
       "\n",
       "         [[2., 2., 2., 2., 2., 2., 2., 2.],\n",
       "          [2., 2., 2., 2., 2., 2., 2., 2.],\n",
       "          [2., 2., 2., 2., 2., 2., 2., 2.],\n",
       "          [2., 2., 2., 2., 2., 2., 2., 2.]]],\n",
       "\n",
       "\n",
       "        [[[0., 0., 0., 0., 0., 0., 0., 0.],\n",
       "          [0., 0., 0., 0., 0., 0., 0., 0.],\n",
       "          [0., 0., 0., 0., 0., 0., 0., 0.],\n",
       "          [0., 0., 0., 0., 0., 0., 0., 0.]],\n",
       "\n",
       "         [[1., 1., 1., 1., 1., 1., 1., 1.],\n",
       "          [1., 1., 1., 1., 1., 1., 1., 1.],\n",
       "          [1., 1., 1., 1., 1., 1., 1., 1.],\n",
       "          [1., 1., 1., 1., 1., 1., 1., 1.]],\n",
       "\n",
       "         [[2., 2., 2., 2., 2., 2., 2., 2.],\n",
       "          [2., 2., 2., 2., 2., 2., 2., 2.],\n",
       "          [2., 2., 2., 2., 2., 2., 2., 2.],\n",
       "          [2., 2., 2., 2., 2., 2., 2., 2.]]]])"
      ]
     },
     "execution_count": 4,
     "metadata": {},
     "output_type": "execute_result"
    }
   ],
   "source": [
    "# 按环境标号修改数值\n",
    "env_ids=1\n",
    "sea_hidden_state_per_env[:,env_ids]=1.\n",
    "sea_hidden_state_per_env\n",
    "env_ids=2\n",
    "sea_hidden_state_per_env[:,env_ids]=2.\n",
    "sea_hidden_state_per_env"
   ]
  },
  {
   "cell_type": "code",
   "execution_count": 5,
   "metadata": {},
   "outputs": [
    {
     "data": {
      "text/plain": [
       "tensor([[[[ 0.,  0.,  0.,  0.,  0.,  0.,  0.,  0.],\n",
       "          [10., 10., 10., 10., 10., 10., 10., 10.],\n",
       "          [ 0.,  0.,  0.,  0.,  0.,  0.,  0.,  0.],\n",
       "          [30., 30., 30., 30., 30., 30., 30., 30.]],\n",
       "\n",
       "         [[ 1.,  1.,  1.,  1.,  1.,  1.,  1.,  1.],\n",
       "          [10., 10., 10., 10., 10., 10., 10., 10.],\n",
       "          [ 1.,  1.,  1.,  1.,  1.,  1.,  1.,  1.],\n",
       "          [30., 30., 30., 30., 30., 30., 30., 30.]],\n",
       "\n",
       "         [[ 2.,  2.,  2.,  2.,  2.,  2.,  2.,  2.],\n",
       "          [10., 10., 10., 10., 10., 10., 10., 10.],\n",
       "          [ 2.,  2.,  2.,  2.,  2.,  2.,  2.,  2.],\n",
       "          [30., 30., 30., 30., 30., 30., 30., 30.]]],\n",
       "\n",
       "\n",
       "        [[[ 0.,  0.,  0.,  0.,  0.,  0.,  0.,  0.],\n",
       "          [10., 10., 10., 10., 10., 10., 10., 10.],\n",
       "          [ 0.,  0.,  0.,  0.,  0.,  0.,  0.,  0.],\n",
       "          [30., 30., 30., 30., 30., 30., 30., 30.]],\n",
       "\n",
       "         [[ 1.,  1.,  1.,  1.,  1.,  1.,  1.,  1.],\n",
       "          [10., 10., 10., 10., 10., 10., 10., 10.],\n",
       "          [ 1.,  1.,  1.,  1.,  1.,  1.,  1.,  1.],\n",
       "          [30., 30., 30., 30., 30., 30., 30., 30.]],\n",
       "\n",
       "         [[ 2.,  2.,  2.,  2.,  2.,  2.,  2.,  2.],\n",
       "          [10., 10., 10., 10., 10., 10., 10., 10.],\n",
       "          [ 2.,  2.,  2.,  2.,  2.,  2.,  2.,  2.],\n",
       "          [30., 30., 30., 30., 30., 30., 30., 30.]]]])"
      ]
     },
     "execution_count": 5,
     "metadata": {},
     "output_type": "execute_result"
    }
   ],
   "source": [
    "# 按动作标号修改数值\n",
    "action_ids=1\n",
    "sea_hidden_state_per_env[:,:,action_ids]=action_ids*10.\n",
    "sea_hidden_state_per_env\n",
    "action_ids=3\n",
    "sea_hidden_state_per_env[:,:,action_ids]=action_ids*10.\n",
    "sea_hidden_state_per_env"
   ]
  },
  {
   "cell_type": "code",
   "execution_count": 6,
   "metadata": {},
   "outputs": [
    {
     "name": "stdout",
     "output_type": "stream",
     "text": [
      "'joint' is in 'FL_hip_joint'.\n"
     ]
    }
   ],
   "source": [
    "# 查看字符串判断逻辑\n",
    "name = 'FL_hip_joint'\n",
    "dof_name = 'joint'\n",
    "if dof_name in name:\n",
    "    print(\"'{}' is in '{}'.\".format(dof_name, name))"
   ]
  },
  {
   "cell_type": "code",
   "execution_count": 7,
   "metadata": {},
   "outputs": [
    {
     "data": {
      "text/plain": [
       "tensor([-0.8000, -0.7000, -0.6000, -0.5000, -0.4000, -0.3000, -0.2000, -0.1000,\n",
       "         0.0000,  0.1000,  0.2000,  0.3000,  0.4000,  0.5000,  0.6000,  0.7000,\n",
       "         0.8000])"
      ]
     },
     "execution_count": 7,
     "metadata": {},
     "output_type": "execute_result"
    }
   ],
   "source": [
    "# 查看地图测量情况 _init_height_points \n",
    "import matplotlib.pyplot as plt\n",
    "measured_points_x = [-0.8, -0.7, -0.6, -0.5, -0.4, -0.3, -0.2, -0.1, 0., 0.1, 0.2, 0.3, 0.4, 0.5, 0.6, 0.7, 0.8] # 1mx1.6m rectangle (without center line)\n",
    "measured_points_y = [-0.5, -0.4, -0.3, -0.2, -0.1, 0., 0.1, 0.2, 0.3, 0.4, 0.5]\n",
    "y = torch.tensor(measured_points_y)\n",
    "x = torch.tensor(measured_points_x)\n",
    "x"
   ]
  },
  {
   "cell_type": "code",
   "execution_count": 8,
   "metadata": {},
   "outputs": [
    {
     "data": {
      "text/plain": [
       "torch.Size([17])"
      ]
     },
     "execution_count": 8,
     "metadata": {},
     "output_type": "execute_result"
    }
   ],
   "source": [
    "x.size()\n"
   ]
  },
  {
   "cell_type": "code",
   "execution_count": 9,
   "metadata": {},
   "outputs": [
    {
     "data": {
      "text/plain": [
       "torch.Size([11])"
      ]
     },
     "execution_count": 9,
     "metadata": {},
     "output_type": "execute_result"
    }
   ],
   "source": [
    "y.size()"
   ]
  },
  {
   "cell_type": "code",
   "execution_count": 10,
   "metadata": {},
   "outputs": [
    {
     "name": "stderr",
     "output_type": "stream",
     "text": [
      "/home/pdj/anaconda3/envs/legged_gym_env38/lib/python3.8/site-packages/torch/functional.py:445: UserWarning: torch.meshgrid: in an upcoming release, it will be required to pass the indexing argument. (Triggered internally at  ../aten/src/ATen/native/TensorShape.cpp:2157.)\n",
      "  return _VF.meshgrid(tensors, **kwargs)  # type: ignore[attr-defined]\n"
     ]
    },
    {
     "data": {
      "text/plain": [
       "<function matplotlib.pyplot.show(close=None, block=None)>"
      ]
     },
     "execution_count": 10,
     "metadata": {},
     "output_type": "execute_result"
    },
    {
     "data": {
      "image/png": "[encoded data removed]",
      "text/plain": [
       "<Figure size 640x480 with 1 Axes>"
      ]
     },
     "metadata": {},
     "output_type": "display_data"
    }
   ],
   "source": [
    "grid_x, grid_y = torch.meshgrid(x, y)\n",
    "\n",
    "plt.scatter(grid_x,grid_y)\n",
    "plt.show"
   ]
  },
  {
   "cell_type": "code",
   "execution_count": 11,
   "metadata": {},
   "outputs": [
    {
     "data": {
      "text/plain": [
       "187"
      ]
     },
     "execution_count": 11,
     "metadata": {},
     "output_type": "execute_result"
    }
   ],
   "source": [
    "num_height_points = grid_x.numel()\n",
    "num_height_points"
   ]
  },
  {
   "cell_type": "code",
   "execution_count": 20,
   "metadata": {},
   "outputs": [
    {
     "data": {
      "text/plain": [
       "235"
      ]
     },
     "execution_count": 20,
     "metadata": {},
     "output_type": "execute_result"
    }
   ],
   "source": [
    "basic_obs = 48\n",
    "num_height_points + basic_obs"
   ]
  },
  {
   "cell_type": "code",
   "execution_count": 12,
   "metadata": {},
   "outputs": [
    {
     "data": {
      "text/plain": [
       "tensor([[[0., 0., 0.],\n",
       "         [0., 0., 0.],\n",
       "         [0., 0., 0.],\n",
       "         ...,\n",
       "         [0., 0., 0.],\n",
       "         [0., 0., 0.],\n",
       "         [0., 0., 0.]],\n",
       "\n",
       "        [[0., 0., 0.],\n",
       "         [0., 0., 0.],\n",
       "         [0., 0., 0.],\n",
       "         ...,\n",
       "         [0., 0., 0.],\n",
       "         [0., 0., 0.],\n",
       "         [0., 0., 0.]]])"
      ]
     },
     "execution_count": 12,
     "metadata": {},
     "output_type": "execute_result"
    }
   ],
   "source": [
    "num_envs = 2\n",
    "points = torch.zeros(num_envs, num_height_points, 3, requires_grad=False)\n",
    "points"
   ]
  },
  {
   "cell_type": "code",
   "execution_count": 13,
   "metadata": {},
   "outputs": [
    {
     "data": {
      "text/plain": [
       "torch.Size([187])"
      ]
     },
     "execution_count": 13,
     "metadata": {},
     "output_type": "execute_result"
    }
   ],
   "source": [
    "grid_x.flatten().size()\n"
   ]
  },
  {
   "cell_type": "code",
   "execution_count": 14,
   "metadata": {},
   "outputs": [
    {
     "data": {
      "text/plain": [
       "tensor([[[-0.8000, -0.5000,  0.0000],\n",
       "         [-0.8000, -0.4000,  0.0000],\n",
       "         [-0.8000, -0.3000,  0.0000],\n",
       "         ...,\n",
       "         [ 0.8000,  0.3000,  0.0000],\n",
       "         [ 0.8000,  0.4000,  0.0000],\n",
       "         [ 0.8000,  0.5000,  0.0000]],\n",
       "\n",
       "        [[-0.8000, -0.5000,  0.0000],\n",
       "         [-0.8000, -0.4000,  0.0000],\n",
       "         [-0.8000, -0.3000,  0.0000],\n",
       "         ...,\n",
       "         [ 0.8000,  0.3000,  0.0000],\n",
       "         [ 0.8000,  0.4000,  0.0000],\n",
       "         [ 0.8000,  0.5000,  0.0000]]])"
      ]
     },
     "execution_count": 14,
     "metadata": {},
     "output_type": "execute_result"
    }
   ],
   "source": [
    "points[:, :, 0] = grid_x.flatten()\n",
    "points[:, :, 1] = grid_y.flatten()\n",
    "points"
   ]
  },
  {
   "cell_type": "code",
   "execution_count": 15,
   "metadata": {},
   "outputs": [
    {
     "data": {
      "text/plain": [
       "torch.Size([2, 187])"
      ]
     },
     "execution_count": 15,
     "metadata": {},
     "output_type": "execute_result"
    }
   ],
   "source": [
    "px = points[:, :, 0]\n",
    "px.size()"
   ]
  },
  {
   "cell_type": "code",
   "execution_count": 16,
   "metadata": {},
   "outputs": [
    {
     "data": {
      "text/plain": [
       "torch.Size([374])"
      ]
     },
     "execution_count": 16,
     "metadata": {},
     "output_type": "execute_result"
    }
   ],
   "source": [
    "px = points[:, :, 0].view(-1)\n",
    "px.size()\n"
   ]
  },
  {
   "cell_type": "code",
   "execution_count": 17,
   "metadata": {},
   "outputs": [
    {
     "data": {
      "text/plain": [
       "Normal(loc: 10.0, scale: 2.0)"
      ]
     },
     "execution_count": 17,
     "metadata": {},
     "output_type": "execute_result"
    }
   ],
   "source": [
    "# 查看动作分布采样情况\n",
    "from torch.distributions import Normal\n",
    "mean = 10\n",
    "std = 2\n",
    "distribution = Normal(mean, mean*0. + std)\n",
    "distribution\n"
   ]
  },
  {
   "cell_type": "code",
   "execution_count": 18,
   "metadata": {},
   "outputs": [
    {
     "data": {
      "text/plain": [
       "tensor(9.2142)"
      ]
     },
     "execution_count": 18,
     "metadata": {},
     "output_type": "execute_result"
    }
   ],
   "source": [
    "distribution.sample()"
   ]
  },
  {
   "cell_type": "code",
   "execution_count": 19,
   "metadata": {},
   "outputs": [
    {
     "name": "stdout",
     "output_type": "stream",
     "text": [
      "采样结果是：8.017778396606445\n",
      "采样结果是：8.155584335327148\n",
      "采样结果是：9.926164627075195\n",
      "采样结果是：10.017024993896484\n",
      "采样结果是：13.506473541259766\n",
      "采样结果是：8.808830261230469\n",
      "采样结果是：11.809454917907715\n",
      "采样结果是：10.551284790039062\n",
      "采样结果是：12.117695808410645\n",
      "采样结果是：11.534021377563477\n"
     ]
    }
   ],
   "source": [
    "for i in range(10):\n",
    "    print('采样结果是：{}'.format(distribution.sample()))\n"
   ]
  },
  {
   "cell_type": "code",
   "execution_count": null,
   "metadata": {},
   "outputs": [],
   "source": []
  }
 ],
 "metadata": {
  "kernelspec": {
   "display_name": "legged_gym_env38",
   "language": "python",
   "name": "python3"
  },
  "language_info": {
   "codemirror_mode": {
    "name": "ipython",
    "version": 3
   },
   "file_extension": ".py",
   "mimetype": "text/x-python",
   "name": "python",
   "nbconvert_exporter": "python",
   "pygments_lexer": "ipython3",
   "version": "3.8.18"
  },
  "orig_nbformat": 4
 },
 "nbformat": 4,
 "nbformat_minor": 2
}
